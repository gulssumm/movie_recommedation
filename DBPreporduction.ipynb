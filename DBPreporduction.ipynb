{
 "cells": [
  {
   "cell_type": "code",
   "execution_count": 1,
   "id": "e7f77e1c-d0ad-492e-8a4d-1e9a66e731f0",
   "metadata": {},
   "outputs": [],
   "source": [
    "import pandas as pd\n",
    "import numpy as np"
   ]
  },
  {
   "cell_type": "code",
   "execution_count": null,
   "id": "4f085936-316e-46d8-ad3d-a7838067226a",
   "metadata": {},
   "outputs": [],
   "source": [
    "movies = pd.read_csv(\"mubi_movie_data.csv\")\n",
    "ratings = pd.read_csv(\"mubi_ratings_data.csv\", low_memory=False)\n",
    "users = pd.read_csv(\"mubi_ratings_user_data.csv\")"
   ]
  },
  {
   "cell_type": "code",
   "execution_count": 8,
   "id": "fa36eab7-184a-424d-9e2a-ccfac6fc3232",
   "metadata": {},
   "outputs": [],
   "source": [
    "# Movies datasetinde gerekli sütunları seçme\n",
    "movies = movies[['movie_id', 'movie_title', 'movie_release_year', 'movie_popularity', 'director_id', 'director_name']]\n",
    "\n",
    "# Ratings datasetinde gerekli sütunları seçme\n",
    "ratings = ratings[['user_id', 'movie_id', 'rating_id', 'rating_score']]\n",
    "\n",
    "# Users datasetinde gerekli sütunları seçme\n",
    "users = users[['user_id']]"
   ]
  },
  {
   "cell_type": "code",
   "execution_count": null,
   "id": "6c6b2ab2-fced-4523-b595-2dfe990f4ae5",
   "metadata": {},
   "outputs": [],
   "source": [
    "users = users.drop_duplicates(subset='user_id')\n",
    "\n",
    "np.random.seed(42)\n",
    "users['user_age'] = np.random.randint(16, 61, size=len(users))\n",
    "users['user_gender'] = np.random.choice(['Male', 'Female'], size=len(users))\n",
    "\n",
    "print(\"Users Dataset (Unique User IDs):\")\n",
    "print(users.head())\n",
    "\n",
    "users.to_csv(\"mubi_ratings_user_data_cleaned_unique.csv\", index=False)"
   ]
  },
  {
   "cell_type": "code",
   "execution_count": 10,
   "id": "fe2d7092-1563-4fca-a61b-4d930dbd440e",
   "metadata": {},
   "outputs": [
    {
     "name": "stdout",
     "output_type": "stream",
     "text": [
      "Movies Dataset (Updated):\n",
      "   movie_id                  movie_title  movie_release_year  \\\n",
      "0         1                    La Antena              2007.0   \n",
      "1         2         Elementary Particles              2006.0   \n",
      "2         3                  It's Winter              2006.0   \n",
      "3         4  Kirikou and the Wild Beasts              2005.0   \n",
      "4         5                Padre Nuestro              2007.0   \n",
      "\n",
      "   movie_popularity director_id                   director_name  \n",
      "0               105         131                   Esteban Sapir  \n",
      "1                23          73                   Oskar Roehler  \n",
      "2                21          82                      Rafi Pitts  \n",
      "3                46      89, 90  Michel Ocelot, Bénédicte Galup  \n",
      "4                 7          92               Christopher Zalla  \n",
      "\n",
      "Users Dataset (Updated):\n",
      "    user_id  user_age user_gender\n",
      "0  41579158        54      Female\n",
      "1  68654088        44        Male\n",
      "2  84114365        30      Female\n",
      "3  29755671        58        Male\n",
      "4  93302487        23        Male\n"
     ]
    }
   ],
   "source": [
    "print(\"Movies Dataset (Updated):\")\n",
    "print(movies.head())\n",
    "print(\"\\nUsers Dataset (Updated):\")\n",
    "print(users.head())"
   ]
  },
  {
   "cell_type": "code",
   "execution_count": null,
   "id": "38746d51-0171-402f-a8ae-d0e11087e681",
   "metadata": {},
   "outputs": [],
   "source": [
    "movies.to_csv(\"mubi_movie_data_cleaned.csv\", index=False)\n",
    "\n",
    "ratings.to_csv(\"mubi_ratings_data_cleaned.csv\", index=False)\n",
    "\n",
    "users.to_csv(\"mubi_ratings_user_data_cleaned.csv\", index=False)"
   ]
  },
  {
   "cell_type": "code",
   "execution_count": null,
   "id": "2b818059-3923-492c-9440-493201624f40",
   "metadata": {},
   "outputs": [],
   "source": []
  }
 ],
 "metadata": {
  "kernelspec": {
   "display_name": "Python 3 (ipykernel)",
   "language": "python",
   "name": "python3"
  },
  "language_info": {
   "codemirror_mode": {
    "name": "ipython",
    "version": 3
   },
   "file_extension": ".py",
   "mimetype": "text/x-python",
   "name": "python",
   "nbconvert_exporter": "python",
   "pygments_lexer": "ipython3",
   "version": "3.8.0"
  }
 },
 "nbformat": 4,
 "nbformat_minor": 5
}
