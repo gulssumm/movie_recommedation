{
 "cells": [
  {
   "cell_type": "code",
   "execution_count": 1,
   "id": "e7f77e1c-d0ad-492e-8a4d-1e9a66e731f0",
   "metadata": {},
   "outputs": [],
   "source": [
    "import pandas as pd\n",
    "import numpy as np\n",
    "np.random.seed(48)"
   ]
  },
  {
   "cell_type": "code",
   "execution_count": 2,
   "id": "4f085936-316e-46d8-ad3d-a7838067226a",
   "metadata": {},
   "outputs": [],
   "source": [
    "movies = pd.read_csv(r\"C:\\Users\\recep\\Documents\\Ders Notları\\5. Dönem\\Big Data Analysis\\Term Project\\archive\\mubi_movie_data.csv\")\n",
    "ratings = pd.read_csv(r\"C:\\Users\\recep\\Documents\\Ders Notları\\5. Dönem\\Big Data Analysis\\Term Project\\archive\\mubi_ratings_data.csv\", low_memory=False )\n",
    "users = pd.read_csv(r\"C:\\Users\\recep\\Documents\\Ders Notları\\5. Dönem\\Big Data Analysis\\Term Project\\archive\\mubi_ratings_data.csv\", low_memory=False)"
   ]
  },
  {
   "cell_type": "code",
   "execution_count": 3,
   "id": "fa36eab7-184a-424d-9e2a-ccfac6fc3232",
   "metadata": {},
   "outputs": [],
   "source": [
    "movies = movies[['movie_id', 'movie_title', 'movie_release_year', 'movie_popularity', 'director_id', 'director_name']]\n",
    "\n",
    "ratings = ratings[['user_id', 'movie_id', 'rating_id', 'rating_score']]\n",
    "\n",
    "users = users[['user_id']]"
   ]
  },
  {
   "cell_type": "code",
   "execution_count": 4,
   "id": "ff4289bf-e9c6-4580-9114-2371a5a906ec",
   "metadata": {},
   "outputs": [],
   "source": [
    "movies['movie_popularity'] = movies['movie_popularity'].apply(\n",
    "    lambda x: np.random.randint(1, 4001) if x == 0 else x\n",
    ")"
   ]
  },
  {
   "cell_type": "code",
   "execution_count": 5,
   "id": "6c6b2ab2-fced-4523-b595-2dfe990f4ae5",
   "metadata": {},
   "outputs": [],
   "source": [
    "users = users.drop_duplicates(subset='user_id')\n",
    "\n",
    "users['user_age'] = np.random.randint(16, 61, size=len(users))\n",
    "users['user_gender'] = np.random.choice(['Male', 'Female'], size=len(users))\n"
   ]
  },
  {
   "cell_type": "code",
   "execution_count": 6,
   "id": "38746d51-0171-402f-a8ae-d0e11087e681",
   "metadata": {},
   "outputs": [
    {
     "name": "stdout",
     "output_type": "stream",
     "text": [
      "Database preproduction is finished\n"
     ]
    }
   ],
   "source": [
    "movies.to_csv(\"movie_data_cleaned.csv\", index=False)\n",
    "\n",
    "ratings.to_csv(\"ratings_data_cleaned.csv\", index=False)\n",
    "\n",
    "users.to_csv(\"user_data_cleaned.csv\", index=False)\n",
    "\n",
    "print(\"Database preproduction is finished\")"
   ]
  }
 ],
 "metadata": {
  "kernelspec": {
   "display_name": "Python 3 (ipykernel)",
   "language": "python",
   "name": "python3"
  },
  "language_info": {
   "codemirror_mode": {
    "name": "ipython",
    "version": 3
   },
   "file_extension": ".py",
   "mimetype": "text/x-python",
   "name": "python",
   "nbconvert_exporter": "python",
   "pygments_lexer": "ipython3",
   "version": "3.8.0"
  }
 },
 "nbformat": 4,
 "nbformat_minor": 5
}
