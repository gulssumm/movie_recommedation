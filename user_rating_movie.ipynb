{
 "cells": [
  {
   "cell_type": "code",
   "execution_count": 1,
   "id": "6618f0d6",
   "metadata": {},
   "outputs": [
    {
     "name": "stdout",
     "output_type": "stream",
     "text": [
      "Unique values from column 'user_id' have been saved to 'user_id.csv'.\n"
     ]
    }
   ],
   "source": [
    "#!pip install pandas\n",
    "# import pandas with shortcut 'pd' \n",
    "import pandas as pd \n",
    "\n",
    "# read_csv function which is used to read the required CSV file \n",
    "input_file = 'mubi_ratings_data.csv'\n",
    "output_file = 'user_id.csv'\n",
    "column_name = 'user_id'\n",
    "\n",
    "# Read the column and drop duplicates\n",
    "df = pd.read_csv(input_file, usecols=[column_name], dtype=str, low_memory=False)\n",
    "df_unique = df.drop_duplicates()\n",
    "\n",
    "# Save the unique values to another CSV file\n",
    "df_unique.to_csv(output_file, index=False)\n",
    "\n",
    "print(f\"Unique values from column '{column_name}' have been saved to '{output_file}'.\")"
   ]
  },
  {
   "cell_type": "code",
   "execution_count": 2,
   "id": "1d087613",
   "metadata": {},
   "outputs": [
    {
     "name": "stdout",
     "output_type": "stream",
     "text": [
      "Unique values from column 'movie_id' have been saved to 'movie_id.csv'.\n"
     ]
    }
   ],
   "source": [
    "# read_csv function which is used to read the required CSV file \n",
    "input_file = 'mubi_movie_data.csv'\n",
    "output_file = 'movie_id.csv'\n",
    "column_name = 'movie_id'\n",
    "\n",
    "# Read the column and drop duplicates\n",
    "df = pd.read_csv(input_file, usecols=[column_name], dtype=str, low_memory=False)\n",
    "df_unique = df.drop_duplicates()\n",
    "\n",
    "# Save the unique values to another CSV file\n",
    "df_unique.to_csv(output_file, index=False)\n",
    "\n",
    "print(f\"Unique values from column '{column_name}' have been saved to '{output_file}'.\")"
   ]
  },
  {
   "cell_type": "code",
   "execution_count": 3,
   "id": "36dafdf8",
   "metadata": {},
   "outputs": [
    {
     "name": "stdout",
     "output_type": "stream",
     "text": [
      "Unique values from column 'rating_id' have been saved to 'rating_id.csv'.\n"
     ]
    }
   ],
   "source": [
    "# read_csv function which is used to read the required CSV file \n",
    "input_file = 'mubi_ratings_data.csv'\n",
    "output_file = 'rating_id.csv'\n",
    "column_name = 'rating_id'\n",
    "\n",
    "# Read the column and drop duplicates\n",
    "df = pd.read_csv(input_file, usecols=[column_name], dtype=str, low_memory=False)\n",
    "df_unique = df.drop_duplicates()\n",
    "\n",
    "# Save the unique values to another CSV file\n",
    "df_unique.to_csv(output_file, index=False)\n",
    "\n",
    "print(f\"Unique values from column '{column_name}' have been saved to '{output_file}'.\")"
   ]
  }
 ],
 "metadata": {
  "kernelspec": {
   "display_name": "Python 3 (ipykernel)",
   "language": "python",
   "name": "python3"
  },
  "language_info": {
   "codemirror_mode": {
    "name": "ipython",
    "version": 3
   },
   "file_extension": ".py",
   "mimetype": "text/x-python",
   "name": "python",
   "nbconvert_exporter": "python",
   "pygments_lexer": "ipython3",
   "version": "3.7.4"
  }
 },
 "nbformat": 4,
 "nbformat_minor": 5
}
